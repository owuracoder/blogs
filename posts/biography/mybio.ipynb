{
 "cells": [
  {
   "cell_type": "raw",
   "id": "a07a9ea3",
   "metadata": {},
   "source": [
    "---\n",
    "title: \"I chose coding over enrolling in a Ph.D. program and this is what happened...\"\n",
    "format:\n",
    "    html:\n",
    "        code-fold: false\n",
    "execute:\n",
    "    enabled: false\n",
    "author: \"Richard Agyemang\"\n",
    "date: \"2023-04-08\"\n",
    "categories: [code, analysis]\n",
    "image: \"test.jpeg\"\n",
    "---"
   ]
  },
  {
   "attachments": {},
   "cell_type": "markdown",
   "id": "8e8678ca",
   "metadata": {},
   "source": [
    "Have you ever found yourself in a situation where you were repeatedly told that your decision was wrong? That was precisely my experience when I chose to pause my enrollment in a Ph.D. program to embark on a new adventure, exploring different aspects of my life.\n",
    "\n",
    "![](test.jpeg)"
   ]
  },
  {
   "attachments": {},
   "cell_type": "markdown",
   "id": "13c3ef4d",
   "metadata": {},
   "source": [
    "\n",
    "### 🤔 In Search of Meaning: From Undergrad to Master's, and Beyond\n",
    "When I completed my undergraduate degree, I had grand plans. However, I soon discovered that the majority of my daily duties at work were repetitive tasks, devoid of any opportunity to devise innovative solutions to real-world challenges. This was far from the kind of work I had envisioned doing for the rest of my life. I started to believe that perhaps an undergraduate degree wasn't sufficient, prompting me to pursue a master's degree with the intention of enhancing my skill set. Despite the effort and time I dedicated to obtaining my second degree, I remained dissatisfied with the nature of the problems I was able to solve with my newly acquired skills."
   ]
  },
  {
   "attachments": {},
   "cell_type": "markdown",
   "id": "e6755171",
   "metadata": {},
   "source": [
    "### 😟 Self-Reflection and Discovery: The Journey Beyond Academia\n",
    "Fast forward nine years, and I've completed my bachelor’s degree in accounting and finance as well as my master's degree in public administration. Standing in a foreign country with my certificate in hand, I had no idea what the future held for me. I began to question the decisions I'd made in my life. Had I made the right choices? Was it even a good idea to leave my country to study abroad? I felt a gaping void in my life. I vividly remember the day I received my certificate, thinking to myself, 'After all this toil and suffering, this is what I get? A piece of paper 😁!!'\n",
    "\n",
    "To be fair, I genuinely enjoyed my time as a master’s student, but deep down, I felt I had no life-changing contributions to offer in solving some of the world's most challenging problems. I was eager to make a significant change. The logical next step was to enroll in a Ph.D. program. However, I couldn't bear the thought of rushing into a Ph.D. without first discovering who I truly was. So, I decided to take a break from academics to find myself. I wanted to understand more about my values and what truly mattered in my life. This wasn't an easy decision, especially as almost all my friends were enrolling in Ph.D. programs."
   ]
  },
  {
   "attachments": {},
   "cell_type": "markdown",
   "id": "087fbb40",
   "metadata": {},
   "source": [
    "### Awakening from the Loop: My Pivotal Turn Towards Purpose\n",
    "Reflecting on my educational journey – bouncing through schools, searching for a purpose, making what I thought were all the right choices, experiencing sleepless nights and handing in dozens of assignments, not to mention the countless all-nighters spent preparing for exams – it hit me hard. I was simply caught in the loop of life. I was living a pre-designed existence, a path that many people follow: go to school, get a job, settle down. It dawned on me that to break this cycle, I needed to change. This was the turning point in my life, the pivotal moment when I committed to dedicating the rest of my existence to pursuing the deep-seated intuition of my true life's purpose, which I had consciously ignored for over a decade. I was now ready to take life head-on 💪."
   ]
  },
  {
   "attachments": {},
   "cell_type": "markdown",
   "id": "6ed9dc2d",
   "metadata": {},
   "source": [
    "### The New Path…\n",
    "I began to take inventory of my interests and the things that captivated me most in life. Furthermore, I dove into researching key global problems and innovative solutions to address them. At this time, I was merely following my intuition. I didn't have a plan - just a burning desire to succeed.\n",
    "\n",
    "The last time I felt this way was during a business idea competition where I had the opportunity to apply my creative skills to solve real-world challenges. I cannot learn by rote; I'm a visual learner who thrives on hands-on experience and conducting my own experiments, keeping the bigger picture in mind. This approach was not accommodated by the rigorous education I received during my bachelor's and master's degrees.\n",
    "\n",
    "For several months, I dabbled in web development and data science. I still vividly recall the first time I got my own computer. I would sit behind it, imagining myself as a hacker infiltrating someone else's system. Strangely enough, it felt exhilarating. I yearned to create something, but my life's realities and my parents' emphasis on education didn't allow me the time to follow that intuition. Academic work was paramount to me then; it seemed like the logical path.\n",
    "\n",
    "Eventually, I discovered the world of Artificial Intelligence and Machine Learning, and it astounded me. I read about the crucial problems these technologies are solving and how they are transforming the world, especially in developing regions. That's when I decided that this is the path I wanted to commit my life to 💯. It's an incredibly exciting field!\n",
    "\n",
    "I'm still learning and discovering new learning styles. Additionally, I'm experimenting with different technologies and creating amazing products along the way.\n",
    "\n",
    "In my upcoming posts, I'll share about my journey into deep learning, and the interesting projects I'm working on. If you're a machine learning enthusiast, researcher, or practitioner, feel free to reach out so we can learn and collaborate.\n",
    "\n",
    "I'm thrilled to share my stories, and I hope they can shift your perspective about your life and what truly matters to you. I'd like to conclude with a thought-provoking quote by Steve Jobs.\n",
    "\n",
    "I am very glad to share my stories and hope it can change your perspective about your life and what matters most to you. I will like to end with a thought-provoking quote by Steve Jobs."
   ]
  },
  {
   "attachments": {},
   "cell_type": "markdown",
   "id": "7ee6eb6e",
   "metadata": {},
   "source": [
    "> ***Your work is going to fill a large part of your life, and the only way to be truly satisfied is to do what you believe is great work. And the only way to do great work is to love what you do. If you haven’t found it yet, keep looking. Don’t settle.***"
   ]
  }
 ],
 "metadata": {
  "kernelspec": {
   "display_name": "base",
   "language": "python",
   "name": "python3"
  },
  "language_info": {
   "codemirror_mode": {
    "name": "ipython",
    "version": 3
   },
   "file_extension": ".py",
   "mimetype": "text/x-python",
   "name": "python",
   "nbconvert_exporter": "python",
   "pygments_lexer": "ipython3",
   "version": "3.9.10"
  }
 },
 "nbformat": 4,
 "nbformat_minor": 5
}
